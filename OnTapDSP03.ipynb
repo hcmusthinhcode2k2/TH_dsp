{
 "cells": [
  {
   "cell_type": "markdown",
   "metadata": {
    "colab_type": "text",
    "id": "1G7uQgNjD00-"
   },
   "source": [
    "### Trường ĐH Khoa học tự nhiên\n",
    "Khoa Điện tử Viễn thông\n",
    "# <center > Đề thi mẫu Môn TH DSP </center>\n",
    "<center >Thời gian: 40 phút<br> </center>\n",
    "<center >Được sử dụng tài liệu</center>\n",
    "##Mã đề: 03"
   ]
  },
  {
   "cell_type": "code",
   "execution_count": null,
   "metadata": {
    "colab": {},
    "colab_type": "code",
    "id": "NYgkinYLLLy2"
   },
   "outputs": [],
   "source": [
    "#Họ và tên:\n",
    "#MSSV:\n",
    "#Đề:"
   ]
  },
  {
   "cell_type": "code",
   "execution_count": null,
   "metadata": {
    "colab": {},
    "colab_type": "code",
    "id": "JmjR6caoDw6g"
   },
   "outputs": [],
   "source": [
    " #Thư viện\n",
    "from scipy import signal\n",
    "import matplotlib.pyplot as plt\n",
    "import numpy as np"
   ]
  },
  {
   "cell_type": "markdown",
   "metadata": {
    "colab_type": "text",
    "id": "pHZMBWt1FIHg"
   },
   "source": [
    "#### Câu 1: (2 điểm)\n",
    "Viết chương trình tạo và vẽ tín hiệu x gồm các yêu cầu sau: <br>\n",
    "> x là tổng hợp của 3 tín hiệu hình sin: <br>\n",
    ">> a1 = 1, f1 = 20 Hz, pha = 0 <br>\n",
    ">> a2 = 2, f2 = 40 Hz, pha = $\\pi/2$ <br>\n",
    ">> a3 = 2, f3 = 150 Hz, pha3 = 0 <br>\n",
    "\n",
    "> Tần số lấy mẫu: fs = 1 KHz<br>\n",
    "> Thời gian vẽ: 0.5 s\n"
   ]
  },
  {
   "cell_type": "code",
   "execution_count": null,
   "metadata": {
    "colab": {},
    "colab_type": "code",
    "id": "uO13_WUeFN50"
   },
   "outputs": [],
   "source": []
  },
  {
   "cell_type": "markdown",
   "metadata": {
    "colab_type": "text",
    "id": "wthdNRI1FXW5"
   },
   "source": [
    "#### Câu 2 (2 điểm)\n",
    "Vẽ phổ biên độ và phổ pha của tín hiệu x theo tần số Hz"
   ]
  },
  {
   "cell_type": "code",
   "execution_count": null,
   "metadata": {
    "colab": {},
    "colab_type": "code",
    "id": "LmOTqkJqGL0b"
   },
   "outputs": [],
   "source": []
  },
  {
   "cell_type": "markdown",
   "metadata": {
    "colab_type": "text",
    "id": "noXsMcFWGuak"
   },
   "source": [
    "#### Câu 3: (3 điểm)\n",
    "Thiết kế mạch lọc FIR để lọc bỏ tín hiệu f2 = 40 Hz  trong tín hiệu x ở câu 1 <br>\n",
    "Cho biết các giá trị sau: <br>\n",
    "a. Lọc thiết kế là loại lọc thông gì? (0.5 điểm)<br>\n",
    "b. Vẽ đáp ứng tần số của bộ lọc theo Hz (2.5 điểm)"
   ]
  },
  {
   "cell_type": "code",
   "execution_count": null,
   "metadata": {
    "colab": {},
    "colab_type": "code",
    "id": "WDYYtgRHHfko"
   },
   "outputs": [],
   "source": []
  },
  {
   "cell_type": "markdown",
   "metadata": {
    "colab_type": "text",
    "id": "weKM0MgTHgXx"
   },
   "source": [
    "#### Câu 4: (2 điểm)\n",
    "Vẽ phổ biên độ của tín hiệu y là ngõ ra của bộ lọc thiết kế ở câu 3 với tín hiệu vào là x (theo Hz)\n"
   ]
  },
  {
   "cell_type": "code",
   "execution_count": null,
   "metadata": {
    "colab": {},
    "colab_type": "code",
    "id": "_vn5m6XZH3AY"
   },
   "outputs": [],
   "source": []
  },
  {
   "cell_type": "markdown",
   "metadata": {
    "colab_type": "text",
    "id": "tbkyDzMu6jxf"
   },
   "source": [
    "#### Câu 5: (1 điểm)\n",
    "Vẽ tín hiệu vào x và ra y trên cùng một hình sử dụng subplot"
   ]
  },
  {
   "cell_type": "code",
   "execution_count": null,
   "metadata": {
    "colab": {},
    "colab_type": "code",
    "id": "73X8cjJz6z6N"
   },
   "outputs": [],
   "source": []
  }
 ],
 "metadata": {
  "colab": {
   "collapsed_sections": [],
   "name": "DeThiTHDSP_De03.ipynb",
   "provenance": [],
   "version": "0.3.2"
  },
  "kernelspec": {
   "display_name": "Python 3 (ipykernel)",
   "language": "python",
   "name": "python3"
  },
  "language_info": {
   "codemirror_mode": {
    "name": "ipython",
    "version": 3
   },
   "file_extension": ".py",
   "mimetype": "text/x-python",
   "name": "python",
   "nbconvert_exporter": "python",
   "pygments_lexer": "ipython3",
   "version": "3.9.13"
  }
 },
 "nbformat": 4,
 "nbformat_minor": 1
}
